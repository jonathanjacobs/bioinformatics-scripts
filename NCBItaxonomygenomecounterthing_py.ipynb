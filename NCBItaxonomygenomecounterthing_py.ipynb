{
  "nbformat": 4,
  "nbformat_minor": 0,
  "metadata": {
    "colab": {
      "provenance": [],
      "history_visible": true,
      "authorship_tag": "ABX9TyNWnkLUmZG7r2PlAOtqWGbj",
      "include_colab_link": true
    },
    "kernelspec": {
      "name": "python3",
      "display_name": "Python 3"
    },
    "language_info": {
      "name": "python"
    }
  },
  "cells": [
    {
      "cell_type": "markdown",
      "metadata": {
        "id": "view-in-github",
        "colab_type": "text"
      },
      "source": [
        "<a href=\"https://colab.research.google.com/github/jonathanjacobs/bioinformatics-scripts/blob/master/NCBItaxonomygenomecounterthing_py.ipynb\" target=\"_parent\"><img src=\"https://colab.research.google.com/assets/colab-badge.svg\" alt=\"Open In Colab\"/></a>"
      ]
    },
    {
      "cell_type": "code",
      "source": [
        "!pip install Bio\n",
        "!pip install ncbi-datasets-pylib"
      ],
      "metadata": {
        "colab": {
          "base_uri": "https://localhost:8080/"
        },
        "collapsed": true,
        "id": "5P_Mg3zphp3Q",
        "outputId": "0a125b86-6f38-4a02-df67-a22520073607"
      },
      "execution_count": 6,
      "outputs": [
        {
          "output_type": "stream",
          "name": "stdout",
          "text": [
            "Requirement already satisfied: Bio in /usr/local/lib/python3.10/site-packages (1.7.1)\n",
            "Requirement already satisfied: biopython>=1.80 in /usr/local/lib/python3.10/site-packages (from Bio) (1.84)\n",
            "Requirement already satisfied: gprofiler-official in /usr/local/lib/python3.10/site-packages (from Bio) (1.0.0)\n",
            "Requirement already satisfied: mygene in /usr/local/lib/python3.10/site-packages (from Bio) (3.2.2)\n",
            "Requirement already satisfied: pandas in /usr/local/lib/python3.10/site-packages (from Bio) (2.2.3)\n",
            "Requirement already satisfied: pooch in /usr/local/lib/python3.10/site-packages (from Bio) (1.8.2)\n",
            "Requirement already satisfied: requests in /usr/local/lib/python3.10/site-packages (from Bio) (2.31.0)\n",
            "Requirement already satisfied: tqdm in /usr/local/lib/python3.10/site-packages (from Bio) (4.66.1)\n",
            "Requirement already satisfied: numpy in /usr/local/lib/python3.10/site-packages (from biopython>=1.80->Bio) (2.2.0)\n",
            "Requirement already satisfied: biothings-client>=0.2.6 in /usr/local/lib/python3.10/site-packages (from mygene->Bio) (0.3.1)\n",
            "Requirement already satisfied: python-dateutil>=2.8.2 in /usr/local/lib/python3.10/site-packages (from pandas->Bio) (2.8.2)\n",
            "Requirement already satisfied: pytz>=2020.1 in /usr/local/lib/python3.10/site-packages (from pandas->Bio) (2024.2)\n",
            "Requirement already satisfied: tzdata>=2022.7 in /usr/local/lib/python3.10/site-packages (from pandas->Bio) (2024.2)\n",
            "Requirement already satisfied: platformdirs>=2.5.0 in /usr/local/lib/python3.10/site-packages (from pooch->Bio) (4.1.0)\n",
            "Requirement already satisfied: packaging>=20.0 in /usr/local/lib/python3.10/site-packages (from pooch->Bio) (23.2)\n",
            "Requirement already satisfied: charset-normalizer<4,>=2 in /usr/local/lib/python3.10/site-packages (from requests->Bio) (3.3.2)\n",
            "Requirement already satisfied: idna<4,>=2.5 in /usr/local/lib/python3.10/site-packages (from requests->Bio) (3.6)\n",
            "Requirement already satisfied: urllib3<3,>=1.21.1 in /usr/local/lib/python3.10/site-packages (from requests->Bio) (1.26.15)\n",
            "Requirement already satisfied: certifi>=2017.4.17 in /usr/local/lib/python3.10/site-packages (from requests->Bio) (2023.11.17)\n",
            "Requirement already satisfied: six>=1.5 in /usr/local/lib/python3.10/site-packages (from python-dateutil>=2.8.2->pandas->Bio) (1.16.0)\n",
            "Requirement already satisfied: ncbi-datasets-pylib in /usr/local/lib/python3.10/site-packages (16.6.1)\n",
            "Requirement already satisfied: argcomplete==3.0.8 in /usr/local/lib/python3.10/site-packages (from ncbi-datasets-pylib) (3.0.8)\n",
            "Requirement already satisfied: argh==0.28.1 in /usr/local/lib/python3.10/site-packages (from ncbi-datasets-pylib) (0.28.1)\n",
            "Requirement already satisfied: attrs==23.1.0 in /usr/local/lib/python3.10/site-packages (from ncbi-datasets-pylib) (23.1.0)\n",
            "Requirement already satisfied: gffutils==0.11.1 in /usr/local/lib/python3.10/site-packages (from ncbi-datasets-pylib) (0.11.1)\n",
            "Requirement already satisfied: jinja2==3.1.2 in /usr/local/lib/python3.10/site-packages (from ncbi-datasets-pylib) (3.1.2)\n",
            "Requirement already satisfied: jsonlines==3.1.0 in /usr/local/lib/python3.10/site-packages (from ncbi-datasets-pylib) (3.1.0)\n",
            "Requirement already satisfied: markupsafe==2.1.2 in /usr/local/lib/python3.10/site-packages (from ncbi-datasets-pylib) (2.1.2)\n",
            "Requirement already satisfied: protobuf==4.23.0 in /usr/local/lib/python3.10/site-packages (from ncbi-datasets-pylib) (4.23.0)\n",
            "Requirement already satisfied: pyfaidx==0.7.2.1 in /usr/local/lib/python3.10/site-packages (from ncbi-datasets-pylib) (0.7.2.1)\n",
            "Requirement already satisfied: python-dateutil==2.8.2 in /usr/local/lib/python3.10/site-packages (from ncbi-datasets-pylib) (2.8.2)\n",
            "Requirement already satisfied: simplejson==3.19.1 in /usr/local/lib/python3.10/site-packages (from ncbi-datasets-pylib) (3.19.1)\n",
            "Requirement already satisfied: six==1.16.0 in /usr/local/lib/python3.10/site-packages (from ncbi-datasets-pylib) (1.16.0)\n",
            "Requirement already satisfied: urllib3==1.26.15 in /usr/local/lib/python3.10/site-packages (from ncbi-datasets-pylib) (1.26.15)\n",
            "Requirement already satisfied: setuptools==67.7.2 in /usr/local/lib/python3.10/site-packages (from ncbi-datasets-pylib) (67.7.2)\n",
            "Requirement already satisfied: biopython in /usr/local/lib/python3.10/site-packages (1.84)\n",
            "Requirement already satisfied: requests in /usr/local/lib/python3.10/site-packages (2.31.0)\n",
            "Requirement already satisfied: numpy in /usr/local/lib/python3.10/site-packages (from biopython) (2.2.0)\n",
            "Requirement already satisfied: charset-normalizer<4,>=2 in /usr/local/lib/python3.10/site-packages (from requests) (3.3.2)\n",
            "Requirement already satisfied: idna<4,>=2.5 in /usr/local/lib/python3.10/site-packages (from requests) (3.6)\n",
            "Requirement already satisfied: urllib3<3,>=1.21.1 in /usr/local/lib/python3.10/site-packages (from requests) (1.26.15)\n",
            "Requirement already satisfied: certifi>=2017.4.17 in /usr/local/lib/python3.10/site-packages (from requests) (2023.11.17)\n"
          ]
        }
      ]
    },
    {
      "cell_type": "code",
      "source": [
        "from Bio import Entrez\n",
        "import requests\n",
        "import time\n",
        "\n",
        "verbose = 1\n",
        "max_retries = 5\n",
        "naptime = 2\n",
        "\n",
        "def get_taxon_id_and_genomes(genus_species_list, max_retries):\n",
        "    Entrez.email = \"jjacobs@atcc.org\"  # Always provide your email\n",
        "    results = []\n",
        "\n",
        "    for name in genus_species_list:\n",
        "        genus, species = name.split()[0], \" \".join(name.split()[1:])\n",
        "        taxon_id = None\n",
        "        scientific_name = \"Not found\"\n",
        "        assembly_count = 0\n",
        "        retries = 0\n",
        "\n",
        "        # NCBI is finicky - so let's try more than once up to max_retries to get the results, waiting naptime seconds between each attempt\n",
        "        while retries < max_retries:\n",
        "            try:\n",
        "                # Get taxon ID and scientific name using Entrez\n",
        "                handle = Entrez.esearch(db=\"taxonomy\", term=name)\n",
        "                record = Entrez.read(handle)\n",
        "                handle.close()\n",
        "                if record[\"IdList\"]:\n",
        "                    taxon_id = record[\"IdList\"][0]\n",
        "                    handle = Entrez.efetch(db=\"taxonomy\", id=taxon_id, retmode=\"xml\")\n",
        "                    records = Entrez.read(handle)\n",
        "                    handle.close()\n",
        "                    scientific_name = records[0][\"ScientificName\"]\n",
        "                    if verbose: print(\"Found \",taxon_id,\"\\t\",scientific_name)\n",
        "                else:\n",
        "                    # If the full name isn't found, search for the genus only\n",
        "                    handle = Entrez.esearch(db=\"taxonomy\", term=genus)\n",
        "                    record = Entrez.read(handle)\n",
        "                    handle.close()\n",
        "                    if record[\"IdList\"]:\n",
        "                        taxon_id = record[\"IdList\"][0]\n",
        "                        handle = Entrez.efetch(db=\"taxonomy\", id=taxon_id, retmode=\"xml\")\n",
        "                        records = Entrez.read(handle)\n",
        "                        handle.close()\n",
        "                        scientific_name = records[0][\"ScientificName\"]\n",
        "                        if verbose: print(\"Found Genus\",taxon_id,\"\\t\",scientific_name)\n",
        "\n",
        "                if verbose: print(record)\n",
        "\n",
        "                if taxon_id:\n",
        "                    # Use NCBI Datasets API v2.0 to get taxon report\n",
        "                    url = \"https://api.ncbi.nlm.nih.gov/datasets/v2/taxonomy/dataset_report\"\n",
        "                    headers = {\n",
        "                        'accept': 'application/json',\n",
        "                        'content-type': 'application/json'\n",
        "                    }\n",
        "                    data = {\n",
        "                        \"taxons\": [taxon_id]\n",
        "                    }\n",
        "                    response = requests.post(url, headers=headers, json=data)\n",
        "                    if response.status_code == 200:\n",
        "                        taxon_report = response.json()\n",
        "                        report = taxon_report[\"reports\"][0][\"taxonomy\"]\n",
        "\n",
        "                        # Extract count of assemblies\n",
        "                        for count in report[\"counts\"]:\n",
        "                            if count[\"type\"] == \"COUNT_TYPE_ASSEMBLY\":\n",
        "                                assembly_count = count[\"count\"]\n",
        "                                break\n",
        "\n",
        "                results.append(f\"{genus}\\t{species}\\t{name}\\t{taxon_id}\\t{scientific_name}\\t{assembly_count}\")\n",
        "                break  # Exit the retry loop if successful\n",
        "            except Exception as e:\n",
        "                retries += 1\n",
        "                if verbose: print(f\"Error fetching data for {name}: {e}. Retrying ({retries}/{max_retries})...\")\n",
        "                time.sleep(naptime)  # Wait for a second before retrying\n",
        "                if retries == max_retries:\n",
        "                    results.append(f\"{genus}\\t{species}\\t{name}\\t{taxon_id}None\\t{scientific_name}\\tError\")\n",
        "                    if verbose: print(f\"Failed to fetch data for {name} after {max_retries} retries.\")\n",
        "\n",
        "    return results\n",
        "\n",
        "# Example usage\n",
        "genus_species_list = [\"Anabaena sp.\", \"Anoxystipes aquaeolei\", \"Aquamonas haywardensis\", \"Homo sapiens\", \"Something unknown\"]\n",
        "taxon_ids = get_taxon_id_and_genomes(genus_species_list, max_retries)\n",
        "for line in taxon_ids:\n",
        "    print(line)"
      ],
      "metadata": {
        "id": "SbzGIqiQ1B3Q",
        "collapsed": true
      },
      "execution_count": null,
      "outputs": []
    }
  ]
}